{
 "cells": [
  {
   "cell_type": "markdown",
   "metadata": {},
   "source": [
    "##### EDA"
   ]
  },
  {
   "cell_type": "code",
   "execution_count": null,
   "metadata": {
    "execution": {
     "iopub.execute_input": "2025-05-06T02:01:05.667503Z",
     "iopub.status.busy": "2025-05-06T02:01:05.667176Z",
     "iopub.status.idle": "2025-05-06T02:01:06.434371Z",
     "shell.execute_reply": "2025-05-06T02:01:06.433540Z",
     "shell.execute_reply.started": "2025-05-06T02:01:05.667476Z"
    },
    "trusted": true
   },
   "outputs": [],
   "source": [
    "import os\n",
    "import xml.etree.ElementTree as ET\n",
    "import matplotlib.pyplot as plt\n",
    "import cv2\n",
    "import random\n",
    "from collections import defaultdict\n",
    "import pandas as pd\n",
    "import numpy as np"
   ]
  },
  {
   "cell_type": "code",
   "execution_count": null,
   "metadata": {
    "execution": {
     "iopub.execute_input": "2025-05-06T02:01:06.435558Z",
     "iopub.status.busy": "2025-05-06T02:01:06.435219Z",
     "iopub.status.idle": "2025-05-06T02:01:06.442927Z",
     "shell.execute_reply": "2025-05-06T02:01:06.442048Z",
     "shell.execute_reply.started": "2025-05-06T02:01:06.435527Z"
    },
    "trusted": true
   },
   "outputs": [],
   "source": [
    "def show_img(img_path, xml_path):\n",
    "    img = cv2.imread(img_path)\n",
    "    img = cv2.cvtColor(img, cv2.COLOR_BGR2RGB)\n",
    "\n",
    "    h, w, _ = img.shape\n",
    "    print(\"Image Height:\", h)\n",
    "    print(\"Image Width:\", w)\n",
    "    \n",
    "    tree = ET.parse(xml_path)\n",
    "    root = tree.getroot()\n",
    "\n",
    "    for obj in root.findall('object'):\n",
    "        name = obj.find('name').text\n",
    "        bndbox = obj.find('bndbox')\n",
    "        xmin = int(bndbox.find('xmin').text)\n",
    "        ymin = int(bndbox.find('ymin').text)\n",
    "        xmax = int(bndbox.find('xmax').text)\n",
    "        ymax = int(bndbox.find('ymax').text)\n",
    "\n",
    "        cv2.rectangle(img, (xmin, ymin), (xmax, ymax), (255, 0, 0), 2)\n",
    "        cv2.putText(img, name, (xmin, ymin - 10), cv2.FONT_HERSHEY_SIMPLEX, 1, (255, 0, 0), 2)\n",
    "\n",
    "    plt.figure(figsize=(10, 8))\n",
    "    plt.imshow(img)\n",
    "    plt.axis('off')\n",
    "    plt.show()"
   ]
  },
  {
   "cell_type": "code",
   "execution_count": null,
   "metadata": {
    "execution": {
     "iopub.execute_input": "2025-05-06T02:01:06.444006Z",
     "iopub.status.busy": "2025-05-06T02:01:06.443729Z",
     "iopub.status.idle": "2025-05-06T02:01:08.905957Z",
     "shell.execute_reply": "2025-05-06T02:01:08.905151Z",
     "shell.execute_reply.started": "2025-05-06T02:01:06.443949Z"
    },
    "trusted": true
   },
   "outputs": [],
   "source": [
    "show_img(\"/kaggle/input/yellow-sticky-traps-vip/yellow-sticky-traps-dataset-main/images/1000.jpg\", \n",
    "          \"/kaggle/input/yellow-sticky-traps-vip/yellow-sticky-traps-dataset-main/annotations/1000.xml\")"
   ]
  },
  {
   "cell_type": "code",
   "execution_count": null,
   "metadata": {
    "execution": {
     "iopub.execute_input": "2025-05-06T02:01:08.906912Z",
     "iopub.status.busy": "2025-05-06T02:01:08.906709Z",
     "iopub.status.idle": "2025-05-06T02:01:11.243870Z",
     "shell.execute_reply": "2025-05-06T02:01:11.243175Z",
     "shell.execute_reply.started": "2025-05-06T02:01:08.906894Z"
    },
    "trusted": true
   },
   "outputs": [],
   "source": [
    "\n",
    "# Đường dẫn dữ liệu\n",
    "IMG_DIR = \"/kaggle/input/yellow-sticky-traps-vip/yellow-sticky-traps-dataset-main/images\"\n",
    "ANN_DIR = \"/kaggle/input/yellow-sticky-traps-vip/yellow-sticky-traps-dataset-main/annotations\"\n",
    "\n",
    "# Khởi tạo biến thống kê\n",
    "label_counts = defaultdict(int)\n",
    "object_per_image = []\n",
    "box_dims = []\n",
    "\n",
    "# Duyệt qua toàn bộ file XML\n",
    "ann_files = sorted(os.listdir(ANN_DIR))\n",
    "img_files = sorted(os.listdir(IMG_DIR))\n",
    "\n",
    "for ann_file in ann_files:\n",
    "    tree = ET.parse(os.path.join(ANN_DIR, ann_file))\n",
    "    root = tree.getroot()\n",
    "    \n",
    "    objects = root.findall(\"object\")\n",
    "    object_per_image.append(len(objects))\n",
    "\n",
    "    for obj in objects:\n",
    "        label = obj.find(\"name\").text\n",
    "        label_counts[label] += 1\n",
    "\n",
    "        bbox = obj.find(\"bndbox\")\n",
    "        xmin = int(bbox.find(\"xmin\").text)\n",
    "        ymin = int(bbox.find(\"ymin\").text)\n",
    "        xmax = int(bbox.find(\"xmax\").text)\n",
    "        ymax = int(bbox.find(\"ymax\").text)\n",
    "\n",
    "        width = xmax - xmin\n",
    "        height = ymax - ymin\n",
    "        box_dims.append((width, height))\n",
    "\n",
    "# Chuyển về DataFrame để dễ phân tích\n",
    "box_df = pd.DataFrame(box_dims, columns=[\"width\", \"height\"])\n",
    "box_df[\"area\"] = box_df[\"width\"] * box_df[\"height\"]\n",
    "box_df[\"aspect_ratio\"] = box_df[\"width\"] / box_df[\"height\"]\n",
    "\n",
    "# Tổng quan\n",
    "print(f\"Tổng số ảnh: {len(img_files)}\")\n",
    "print(f\"Tổng số annotation: {len(ann_files)}\")\n",
    "print(f\"Các nhãn: {list(label_counts.keys())}\")\n",
    "print(f\"Số object trung bình/ảnh: {sum(object_per_image)/len(object_per_image):.2f}\")\n",
    "\n",
    "# Vẽ phân phối số object mỗi ảnh\n",
    "plt.figure(figsize=(8, 4))\n",
    "plt.hist(object_per_image, bins=20, color='skyblue', edgecolor='black')\n",
    "plt.title(\"Phân phối số object mỗi ảnh\")\n",
    "plt.xlabel(\"Số object\")\n",
    "plt.ylabel(\"Số ảnh\")\n",
    "plt.show()"
   ]
  },
  {
   "cell_type": "code",
   "execution_count": null,
   "metadata": {
    "execution": {
     "iopub.execute_input": "2025-05-06T02:01:11.245035Z",
     "iopub.status.busy": "2025-05-06T02:01:11.244745Z",
     "iopub.status.idle": "2025-05-06T02:01:11.460758Z",
     "shell.execute_reply": "2025-05-06T02:01:11.459990Z",
     "shell.execute_reply.started": "2025-05-06T02:01:11.245010Z"
    },
    "trusted": true
   },
   "outputs": [],
   "source": [
    "\n",
    "# Tạo biểu đồ tròn phân phối classes\n",
    "plt.figure(figsize=(10, 8))\n",
    "\n",
    "# Chuyển đổi đếm label thành danh sách và sắp xếp theo số lượng (giảm dần)\n",
    "labels = list(label_counts.keys())\n",
    "counts = [label_counts[label] for label in labels]\n",
    "\n",
    "# Sắp xếp theo số lượng giảm dần\n",
    "sorted_data = sorted(zip(labels, counts), key=lambda x: x[1], reverse=True)\n",
    "labels = [item[0] for item in sorted_data]\n",
    "counts = [item[1] for item in sorted_data]\n",
    "\n",
    "# Tính phần trăm\n",
    "total = sum(counts)\n",
    "percentages = [(count/total)*100 for count in counts]\n",
    "\n",
    "# Tạo một palette màu đẹp \n",
    "colors = plt.cm.viridis(np.linspace(0, 1, len(labels)))\n",
    "\n",
    "# Vẽ biểu đồ tròn với phần trăm\n",
    "plt.pie(counts, labels=None, autopct='%1.1f%%', startangle=90, \n",
    "        colors=colors, shadow=False, explode=[0.05]*len(labels))\n",
    "\n",
    "# Thêm title\n",
    "plt.title('Phân phối các loại côn trùng (classes)', fontsize=16)\n",
    "\n",
    "# Thêm chú thích riêng với tên class và số lượng\n",
    "legend_labels = [f'{label} ({count}, {percentage:.1f}%)' for label, count, percentage in zip(labels, counts, percentages)]\n",
    "plt.legend(legend_labels, loc='best', bbox_to_anchor=(1, 0.5), fontsize=10)\n",
    "\n",
    "plt.axis('equal')  # Đảm bảo biểu đồ tròn là hình tròn\n",
    "plt.tight_layout()  # Đảm bảo không bị cắt\n",
    "plt.show()\n",
    "\n",
    "# In thêm thông tin tổng hợp\n",
    "print(f\"Tổng số đối tượng: {total}\")\n",
    "print(f\"Số lượng classes: {len(labels)}\")\n",
    "print(\"\\nPhân phối chi tiết:\")\n",
    "for label, count, percentage in zip(labels, counts, percentages):\n",
    "    print(f\"{label}: {count} ({percentage:.1f}%)\")"
   ]
  },
  {
   "cell_type": "code",
   "execution_count": null,
   "metadata": {
    "execution": {
     "iopub.execute_input": "2025-05-06T02:01:11.462738Z",
     "iopub.status.busy": "2025-05-06T02:01:11.462528Z",
     "iopub.status.idle": "2025-05-06T02:01:11.859026Z",
     "shell.execute_reply": "2025-05-06T02:01:11.858112Z",
     "shell.execute_reply.started": "2025-05-06T02:01:11.462720Z"
    },
    "trusted": true
   },
   "outputs": [],
   "source": [
    "\n",
    "# Tính min, max, và peak cho width\n",
    "widths = box_df[\"width\"]\n",
    "w_min = widths.min()\n",
    "w_max = widths.max()\n",
    "w_counts, w_bins = np.histogram(widths, bins=30)\n",
    "w_peak_idx = np.argmax(w_counts)\n",
    "w_peak_value = (w_bins[w_peak_idx] + w_bins[w_peak_idx + 1]) / 2\n",
    "\n",
    "# Tính min, max, và peak cho height\n",
    "heights = box_df[\"height\"]\n",
    "h_min = heights.min()\n",
    "h_max = heights.max()\n",
    "h_counts, h_bins = np.histogram(heights, bins=30)\n",
    "h_peak_idx = np.argmax(h_counts)\n",
    "h_peak_value = (h_bins[h_peak_idx] + h_bins[h_peak_idx + 1]) / 2\n",
    "\n",
    "# Vẽ histogram\n",
    "plt.figure(figsize=(10, 4))\n",
    "\n",
    "plt.subplot(1, 2, 1)\n",
    "plt.hist(widths, bins=30, color='salmon')\n",
    "plt.title(f\"Chiều rộng bbox\\nMin: {w_min:.2f}, Max: {w_max:.2f}, Peak: {w_peak_value:.2f}\")\n",
    "\n",
    "plt.subplot(1, 2, 2)\n",
    "plt.hist(heights, bins=30, color='seagreen')\n",
    "plt.title(f\"Chiều cao bbox\\nMin: {h_min:.2f}, Max: {h_max:.2f}, Peak: {h_peak_value:.2f}\")\n",
    "\n",
    "plt.tight_layout()\n",
    "plt.show()\n"
   ]
  },
  {
   "cell_type": "markdown",
   "metadata": {},
   "source": [
    "## Crop Tiling"
   ]
  },
  {
   "cell_type": "code",
   "execution_count": null,
   "metadata": {
    "execution": {
     "iopub.execute_input": "2025-05-06T02:01:11.860809Z",
     "iopub.status.busy": "2025-05-06T02:01:11.860578Z",
     "iopub.status.idle": "2025-05-06T02:01:11.873634Z",
     "shell.execute_reply": "2025-05-06T02:01:11.872762Z",
     "shell.execute_reply.started": "2025-05-06T02:01:11.860788Z"
    },
    "trusted": true
   },
   "outputs": [],
   "source": [
    "import os\n",
    "import json\n",
    "import glob\n",
    "import shutil\n",
    "import xml.etree.ElementTree as ET\n",
    "from PIL import Image, ImageDraw\n",
    "import random\n",
    "import gc\n",
    "import matplotlib.pyplot as plt"
   ]
  },
  {
   "cell_type": "code",
   "execution_count": null,
   "metadata": {
    "execution": {
     "iopub.execute_input": "2025-05-06T02:01:11.874819Z",
     "iopub.status.busy": "2025-05-06T02:01:11.874527Z",
     "iopub.status.idle": "2025-05-06T02:01:17.704182Z",
     "shell.execute_reply": "2025-05-06T02:01:17.703469Z",
     "shell.execute_reply.started": "2025-05-06T02:01:11.874789Z"
    },
    "trusted": true
   },
   "outputs": [],
   "source": [
    "import torch\n",
    "import numpy as np\n",
    "from torchvision.ops import nms"
   ]
  },
  {
   "cell_type": "code",
   "execution_count": null,
   "metadata": {
    "execution": {
     "iopub.execute_input": "2025-05-06T02:01:17.705316Z",
     "iopub.status.busy": "2025-05-06T02:01:17.704956Z",
     "iopub.status.idle": "2025-05-06T02:02:50.399210Z",
     "shell.execute_reply": "2025-05-06T02:02:50.398376Z",
     "shell.execute_reply.started": "2025-05-06T02:01:17.705294Z"
    },
    "trusted": true
   },
   "outputs": [],
   "source": [
    "SRC_IMG_DIR = '/kaggle/input/yellow-sticky-traps-vip/yellow-sticky-traps-dataset-main/images'\n",
    "SRC_ANN_DIR = '/kaggle/input/yellow-sticky-traps-vip/yellow-sticky-traps-dataset-main/annotations'\n",
    "OUT_DIR = '/kaggle/working/insects_tiles'\n",
    "CLASSES = ['WF', 'MR', 'NC']\n",
    "\n",
    "TILE_SIZE = 1280\n",
    "OVERLAP = 100\n",
    "TRAIN_SPLIT = 0.9  # 90% for training, 10% for validation\n",
    "\n",
    "# Create output directories\n",
    "os.makedirs(f'{OUT_DIR}/images/train', exist_ok=True)\n",
    "os.makedirs(f'{OUT_DIR}/images/val', exist_ok=True)\n",
    "os.makedirs(f'{OUT_DIR}/labels/train', exist_ok=True)\n",
    "os.makedirs(f'{OUT_DIR}/labels/val', exist_ok=True)\n",
    "tile_map = {}\n",
    "\n",
    "class_map = {cls: i for i, cls in enumerate(CLASSES)}\n",
    "\n",
    "def convert_bbox_to_tile(xmin, ymin, xmax, ymax, tile_x, tile_y, img_w, img_h):\n",
    "    \"\"\"Convert original bounding box coordinates to tile coordinates\"\"\"\n",
    "    x_overlap = max(0, min(xmax, tile_x + TILE_SIZE) - max(xmin, tile_x))\n",
    "    y_overlap = max(0, min(ymax, tile_y + TILE_SIZE) - max(ymin, tile_y))\n",
    "    \n",
    "    if x_overlap == 0 or y_overlap == 0:\n",
    "        return None\n",
    "        \n",
    "    new_xmin = max(xmin - tile_x, 0)\n",
    "    new_ymin = max(ymin - tile_y, 0)\n",
    "    new_xmax = min(xmax - tile_x, TILE_SIZE)\n",
    "    new_ymax = min(ymax - tile_y, TILE_SIZE)\n",
    "    \n",
    "    xc = (new_xmin + new_xmax) / 2 / TILE_SIZE\n",
    "    yc = (new_ymin + new_ymax) / 2 / TILE_SIZE\n",
    "    w = (new_xmax - new_xmin) / TILE_SIZE\n",
    "    h = (new_ymax - new_ymin) / TILE_SIZE\n",
    "    \n",
    "    if w <= 0 or h <= 0:\n",
    "        return None\n",
    "        \n",
    "    return xc, yc, w, h\n",
    "\n",
    "def extract_tiles(img_path, xml_path, split):\n",
    "    \"\"\"Extract tiles from a single image and save them to the specific split folder\"\"\"\n",
    "    tiles_created = 0\n",
    "    filename = os.path.basename(img_path).replace('.jpg', '')\n",
    "    \n",
    "    # Parse XML outside of the image loading to reduce memory overlap\n",
    "    tree = ET.parse(xml_path)\n",
    "    root = tree.getroot()\n",
    "    objects = []\n",
    "    \n",
    "    for obj in root.findall('object'):\n",
    "        cls = obj.find('name').text.strip()\n",
    "        if cls not in class_map:\n",
    "            continue\n",
    "            \n",
    "        class_id = class_map[cls]\n",
    "        bndbox = obj.find('bndbox')\n",
    "        xmin = int(float(bndbox.find('xmin').text))\n",
    "        ymin = int(float(bndbox.find('ymin').text))\n",
    "        xmax = int(float(bndbox.find('xmax').text))\n",
    "        ymax = int(float(bndbox.find('ymax').text))\n",
    "        \n",
    "        objects.append((class_id, xmin, ymin, xmax, ymax))\n",
    "    \n",
    "    # If no valid objects, don't even load the image\n",
    "    if not objects:\n",
    "        return 0\n",
    "    \n",
    "    # Now load the image since we have valid objects\n",
    "    with Image.open(img_path) as img:\n",
    "        img_w, img_h = img.size\n",
    "        stride = TILE_SIZE - OVERLAP\n",
    "\n",
    "        for y in range(0, img_h, stride):\n",
    "            if y + TILE_SIZE > img_h:\n",
    "                y = max(0, img_h - TILE_SIZE)\n",
    "                \n",
    "            for x in range(0, img_w, stride):\n",
    "                if x + TILE_SIZE > img_w:\n",
    "                    x = max(0, img_w - TILE_SIZE)\n",
    "                \n",
    "                # Process tile only if it contains objects\n",
    "                labels = []\n",
    "                for class_id, xmin, ymin, xmax, ymax in objects:\n",
    "                    bbox = convert_bbox_to_tile(xmin, ymin, xmax, ymax, x, y, img_w, img_h)\n",
    "                    if bbox:\n",
    "                        labels.append(f\"{class_id} {' '.join(f'{v:.6f}' for v in bbox)}\")\n",
    "                \n",
    "                if not labels:\n",
    "                    continue\n",
    "                \n",
    "                # Crop this specific tile\n",
    "                tile = img.crop((x, y, x + TILE_SIZE, y + TILE_SIZE))\n",
    "                tile_filename = f'{filename}_tile_{y}_{x}.jpg'\n",
    "                label_filename = tile_filename.replace('.jpg', '.txt')\n",
    "                \n",
    "                # Save image\n",
    "                tile.save(f\"{OUT_DIR}/images/{split}/{tile_filename}\")\n",
    "                \n",
    "                # Save labels\n",
    "                with open(f\"{OUT_DIR}/labels/{split}/{label_filename}\", 'w') as f:\n",
    "                    f.write('\\n'.join(labels))\n",
    "                \n",
    "                # Update mapping\n",
    "                tile_map[tile_filename] = {\n",
    "                    'original_image': filename + '.jpg',\n",
    "                    'tile_coord': [x, y, x + TILE_SIZE, y + TILE_SIZE],\n",
    "                    'split': split\n",
    "                }\n",
    "                \n",
    "                tiles_created += 1\n",
    "                \n",
    "                # Delete intermediate tile to free memory\n",
    "                del tile\n",
    "    \n",
    "    return tiles_created\n",
    "\n",
    "def process_images_by_split(image_files, batch_size=5):\n",
    "    \"\"\"First split images into train/val, then process each set separately\"\"\"\n",
    "    random.seed(42)  # For reproducible splits\n",
    "    \n",
    "    # Shuffle and split image files first\n",
    "    random.shuffle(image_files)\n",
    "    split_idx = int(TRAIN_SPLIT * len(image_files))\n",
    "    train_images = image_files[:split_idx]\n",
    "    val_images = image_files[split_idx:]\n",
    "    \n",
    "    print(f\"Split {len(image_files)} images into {len(train_images)} training and {len(val_images)} validation images\")\n",
    "    \n",
    "    # Process training images\n",
    "    train_tiles = 0\n",
    "    for i in range(0, len(train_images), batch_size):\n",
    "        batch = train_images[i:i+batch_size]\n",
    "        batch_tiles = 0\n",
    "        \n",
    "        for img_path in batch:\n",
    "            xml_path = os.path.join(SRC_ANN_DIR, os.path.basename(img_path).replace('.jpg', '.xml'))\n",
    "            if os.path.exists(xml_path):\n",
    "                batch_tiles += extract_tiles(img_path, xml_path, 'train')\n",
    "        \n",
    "        train_tiles += batch_tiles\n",
    "        print(f\"Processed training batch {i//batch_size + 1}/{len(train_images)//batch_size + 1}: {batch_tiles} tiles created\")\n",
    "        gc.collect()  # Force garbage collection\n",
    "    \n",
    "    # Process validation images\n",
    "    val_tiles = 0\n",
    "    for i in range(0, len(val_images), batch_size):\n",
    "        batch = val_images[i:i+batch_size]\n",
    "        batch_tiles = 0\n",
    "        \n",
    "        for img_path in batch:\n",
    "            xml_path = os.path.join(SRC_ANN_DIR, os.path.basename(img_path).replace('.jpg', '.xml'))\n",
    "            if os.path.exists(xml_path):\n",
    "                batch_tiles += extract_tiles(img_path, xml_path, 'val')\n",
    "        \n",
    "        val_tiles += batch_tiles\n",
    "        print(f\"Processed validation batch {i//batch_size + 1}/{len(val_images)//batch_size + 1}: {batch_tiles} tiles created\")\n",
    "        gc.collect()  # Force garbage collection\n",
    "    \n",
    "    return train_tiles, val_tiles\n",
    "\n",
    "# Main execution\n",
    "image_files = sorted(glob.glob(f'{SRC_IMG_DIR}/*.jpg'))\n",
    "train_count, val_count = process_images_by_split(image_files, batch_size=5)\n",
    "\n",
    "# Save metadata\n",
    "with open(f'{OUT_DIR}/tile_mapping.json', 'w') as f:\n",
    "    json.dump(tile_map, f, indent=2)\n",
    "\n",
    "with open(f'{OUT_DIR}/insects.yaml', 'w') as f:\n",
    "    f.write(f\"\"\"train: {OUT_DIR}/images/train\n",
    "val: {OUT_DIR}/images/val\n",
    "\n",
    "nc: {len(CLASSES)}\n",
    "names: {CLASSES}\n",
    "\"\"\")\n",
    "\n",
    "# Final garbage collection\n",
    "gc.collect()\n",
    "\n",
    "print(f\"✅ Done: {train_count} training and {val_count} validation tiles created at {OUT_DIR}\")"
   ]
  },
  {
   "cell_type": "code",
   "execution_count": null,
   "metadata": {
    "execution": {
     "iopub.execute_input": "2025-05-06T02:02:50.400334Z",
     "iopub.status.busy": "2025-05-06T02:02:50.400026Z",
     "iopub.status.idle": "2025-05-06T02:02:55.814699Z",
     "shell.execute_reply": "2025-05-06T02:02:55.813995Z",
     "shell.execute_reply.started": "2025-05-06T02:02:50.400304Z"
    },
    "trusted": true
   },
   "outputs": [],
   "source": [
    "!pip install ultralytics\n",
    "from ultralytics import YOLO\n",
    "from PIL import Image, ImageDraw"
   ]
  },
  {
   "cell_type": "code",
   "execution_count": null,
   "metadata": {
    "execution": {
     "execution_failed": "2025-05-06T02:03:43.207Z",
     "iopub.execute_input": "2025-05-06T02:02:55.815835Z",
     "iopub.status.busy": "2025-05-06T02:02:55.815570Z"
    },
    "trusted": true
   },
   "outputs": [],
   "source": [
    "model = YOLO(\"yolo11s.pt\")\n",
    "\n",
    "# Cài đặt tăng cường dữ liệu (Data Augmentation)\n",
    "model.train(\n",
    "    data=\"/kaggle/working/insects_tiles/insects.yaml\", \n",
    "    epochs=30, \n",
    "    imgsz=1280,\n",
    "    batch=0.8,\n",
    "    \n",
    "    # Tham số tăng cường dữ liệu cơ bản\n",
    "    augment=True,              # Bật tăng cường dữ liệu\n",
    "    mosaic=1.0,                # Tạo mosaic từ 4 ảnh (0.0-1.0)\n",
    "    translate=0.1,             # Dịch chuyển ảnh ±20%\n",
    "    scale=0.5,                 # Thay đổi tỷ lệ ảnh +50%\n",
    "    fliplr=0.5,                # Lật ảnh theo chiều ngang (xác suất 0.5)\n",
    "    hsv_h=0.015,               # Thay đổi màu sắc (hue) ±1.5%\n",
    "    hsv_s=0.8,                 # Thay đổi độ bão hòa (saturation) ±80%\n",
    "    hsv_v=0.4,                 # Thay đổi độ sáng (value) ±40%\n",
    "    \n",
    "    # Tham số huấn luyện khác\n",
    "    cos_lr=True,               # Sử dụng cosine learning rate scheduler\n",
    "    lr0=1e-3,                 # Learning rate ban đầu cho AdamW (giảm so với SGD)\n",
    "    lrf=0.01,                  # Learning rate cuối (0.001 * lr0)\n",
    "    optimizer='AdamW',         # Chuyển sang AdamW optimizer\n",
    "    warmup_epochs=3.0,         # Số epochs khởi động tăng dần learning rate\n",
    "    warmup_momentum=0.8,       # Momentum ban đầu cho warmup\n",
    "\n",
    "    # Tham số đặc biệt cho dữ liệu không cân bằng\n",
    "    cls=0.5,\n",
    "    box=7.5,\n",
    "    overlap_mask=True,  # Better for overlapping insects\n",
    "    single_cls=False,  # multiple insect types\n",
    "    \n",
    "    # Tham số theo dõi và lưu mô hình\n",
    "    save_period=-1,             # Lưu checkpoint\n",
    "    project='/kaggle/working/runs',  # Đường dẫn lưu kết quả\n",
    "    name='insect_detector', \n",
    "    exist_ok=True,             # Ghi đè thư mục nếu tồn tại\n",
    "    pretrained=True,           # Sử dụng trọng số pretrained\n",
    "    verbose=True,              # Hiển thị thông tin chi tiết\n",
    ")"
   ]
  },
  {
   "cell_type": "markdown",
   "metadata": {},
   "source": [
    "## Evaluate"
   ]
  },
  {
   "cell_type": "code",
   "execution_count": null,
   "metadata": {
    "execution": {
     "execution_failed": "2025-05-06T02:03:43.208Z"
    },
    "trusted": true
   },
   "outputs": [],
   "source": [
    "def evaluate_model(model_path, yaml_path): \n",
    "    model = YOLO(model_path) \n",
    "    metrics = model.val(data=yaml_path) \n",
    "    print(\"✅ Evaluation complete\") \n",
    "    print(metrics)"
   ]
  },
  {
   "cell_type": "code",
   "execution_count": null,
   "metadata": {
    "execution": {
     "execution_failed": "2025-05-06T02:03:43.208Z"
    },
    "trusted": true
   },
   "outputs": [],
   "source": [
    "evaluate_model( model_path='/kaggle/working/runs/insect_detector/weights/best.pt', \n",
    "               yaml_path='/kaggle/working/insects_tiles/insects.yaml' )"
   ]
  },
  {
   "cell_type": "markdown",
   "metadata": {},
   "source": [
    "## Visualize"
   ]
  },
  {
   "cell_type": "code",
   "execution_count": null,
   "metadata": {
    "execution": {
     "execution_failed": "2025-05-06T02:03:43.208Z"
    },
    "trusted": true
   },
   "outputs": [],
   "source": [
    "def predict_on_original_by_tile(image_path, model_path, tile_size=TILE_SIZE, overlap=OVERLAP, conf=0.25, iou_threshold=0.7):\n",
    "    model = YOLO(model_path)\n",
    "    image = Image.open(image_path).convert(\"RGB\")\n",
    "    img_w, img_h = image.size\n",
    "    draw = ImageDraw.Draw(image)\n",
    "\n",
    "    stride = tile_size - overlap\n",
    "\n",
    "    all_boxes = []\n",
    "    all_scores = []\n",
    "    all_classes = []\n",
    "\n",
    "    for y in range(0, img_h, stride):\n",
    "        for x in range(0, img_w, stride):\n",
    "            if x + tile_size > img_w:\n",
    "                x = img_w - tile_size\n",
    "            if y + tile_size > img_h:\n",
    "                y = img_h - tile_size\n",
    "\n",
    "            tile = image.crop((x, y, x + tile_size, y + tile_size))\n",
    "            result = model(tile, conf=conf)[0]\n",
    "\n",
    "            boxes = result.boxes.xyxy.cpu().numpy()\n",
    "            scores = result.boxes.conf.cpu().numpy()\n",
    "            classes = result.boxes.cls.cpu().numpy()\n",
    "\n",
    "            for box, score, cls in zip(boxes, scores, classes):\n",
    "                bx1, by1, bx2, by2 = box[:4]\n",
    "                # dịch tọa độ bbox về vị trí trên ảnh gốc\n",
    "                all_boxes.append([bx1 + x, by1 + y, bx2 + x, by2 + y])\n",
    "                all_scores.append(score)\n",
    "                all_classes.append(int(cls))\n",
    "            tile.close()\n",
    "\n",
    "    # Convert to tensors\n",
    "    boxes_tensor = torch.tensor(all_boxes, dtype=torch.float32)\n",
    "    scores_tensor = torch.tensor(all_scores)\n",
    "    classes_tensor = torch.tensor(all_classes)\n",
    "\n",
    "    # Thực hiện NMS theo từng class\n",
    "    keep_indices = []\n",
    "    for class_id in torch.unique(classes_tensor):\n",
    "        idxs = (classes_tensor == class_id).nonzero(as_tuple=True)[0]\n",
    "        kept = nms(boxes_tensor[idxs], scores_tensor[idxs], iou_threshold)\n",
    "        keep_indices.extend(idxs[kept].tolist())\n",
    "\n",
    "    for i in keep_indices:\n",
    "        box = all_boxes[i]\n",
    "        class_id = all_classes[i]\n",
    "        label = CLASSES[class_id]\n",
    "        draw.rectangle(box, outline=\"red\", width=2)\n",
    "        draw.text((box[0] + 2, box[1] + 2), label, fill=\"white\")\n",
    "\n",
    "    gc.collect()\n",
    "    plt.figure(figsize=(12, 8))\n",
    "    plt.imshow(image)\n",
    "    plt.axis('off')\n",
    "    plt.title(f\"Prediction on: {os.path.basename(image_path)} (tile mode with NMS)\")\n",
    "    plt.show()\n",
    "    image.close()\n",
    "    return"
   ]
  },
  {
   "cell_type": "code",
   "execution_count": null,
   "metadata": {
    "execution": {
     "execution_failed": "2025-05-06T02:03:43.208Z"
    },
    "trusted": true
   },
   "outputs": [],
   "source": [
    "show_img(\"/kaggle/input/yellow-sticky-traps-vip/yellow-sticky-traps-dataset-main/images/1000.jpg\", \n",
    "          \"/kaggle/input/yellow-sticky-traps-vip/yellow-sticky-traps-dataset-main/annotations/1000.xml\")"
   ]
  },
  {
   "cell_type": "code",
   "execution_count": null,
   "metadata": {
    "execution": {
     "execution_failed": "2025-05-06T02:03:43.209Z"
    },
    "trusted": true
   },
   "outputs": [],
   "source": [
    "predict_on_original_by_tile(\n",
    "    image_path='/kaggle/input/yellow-sticky-traps-vip/yellow-sticky-traps-dataset-main/images/1000.jpg',\n",
    "    model_path='/kaggle/working/runs/insect_detector/weights/best.pt',\n",
    "    tile_size=1280,\n",
    "    overlap=100,\n",
    "    conf=0.25\n",
    ")"
   ]
  }
 ],
 "metadata": {
  "kaggle": {
   "accelerator": "gpu",
   "dataSources": [
    {
     "datasetId": 7100764,
     "sourceId": 11348529,
     "sourceType": "datasetVersion"
    },
    {
     "datasetId": 7223779,
     "sourceId": 11648587,
     "sourceType": "datasetVersion"
    },
    {
     "modelId": 327400,
     "modelInstanceId": 308084,
     "sourceId": 372291,
     "sourceType": "modelInstanceVersion"
    }
   ],
   "dockerImageVersionId": 30919,
   "isGpuEnabled": true,
   "isInternetEnabled": true,
   "language": "python",
   "sourceType": "notebook"
  },
  "kernelspec": {
   "display_name": "Python 3",
   "language": "python",
   "name": "python3"
  },
  "language_info": {
   "codemirror_mode": {
    "name": "ipython",
    "version": 3
   },
   "file_extension": ".py",
   "mimetype": "text/x-python",
   "name": "python",
   "nbconvert_exporter": "python",
   "pygments_lexer": "ipython3",
   "version": "3.10.12"
  }
 },
 "nbformat": 4,
 "nbformat_minor": 4
}
